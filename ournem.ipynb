{
 "cells": [
  {
   "cell_type": "code",
   "execution_count": 30,
   "metadata": {},
   "outputs": [],
   "source": [
    "import requests\n",
    "import json\n",
    "from logzero import logger\n",
    "from functools import lru_cache"
   ]
  },
  {
   "cell_type": "code",
   "execution_count": 14,
   "metadata": {},
   "outputs": [],
   "source": [
    "URL = 'http://explorer.ournem.com/account/detailTXList'\n",
    "ROOT_ADDR = 'NC4C6PSUW5CLTDT5SXAGJDQJGZNESKFK5MCN77OG'\n",
    "HEIGHT = 1475043"
   ]
  },
  {
   "cell_type": "code",
   "execution_count": 49,
   "metadata": {},
   "outputs": [],
   "source": [
    "@lru_cache(maxsize=None)\n",
    "def fetchTx(addr):\n",
    "    tx = []\n",
    "    id = 0\n",
    "    while True:\n",
    "        payload = json.dumps({'address': addr, 'id': id})\n",
    "        headers = {'Content-Type': 'application/json'}\n",
    "        logger.info(f'addr = {addr[:6]}, id = {id}')\n",
    "        resp = requests.post(URL, data=payload, headers=headers)\n",
    "        new_tx = resp.json()\n",
    "        tx.extend(new_tx)\n",
    "        if len(new_tx) == 25 and new_tx[-1]['height'] > HEIGHT:\n",
    "            id = new_tx[-1]['id']\n",
    "            continue\n",
    "        break\n",
    "    return tx"
   ]
  },
  {
   "cell_type": "code",
   "execution_count": 50,
   "metadata": {
    "scrolled": false
   },
   "outputs": [
    {
     "name": "stderr",
     "output_type": "stream",
     "text": [
      "[I 180131 01:57:37 <ipython-input-49-8e97e527c99b>:8] addr = NC4C6P, id = 0\n",
      "[I 180131 01:57:37 <ipython-input-49-8e97e527c99b>:8] addr = NC4C6P, id = 1591772\n",
      "[I 180131 01:57:38 <ipython-input-49-8e97e527c99b>:8] addr = NC4C6P, id = 1570365\n",
      "[I 180131 01:57:39 <ipython-input-49-8e97e527c99b>:8] addr = NBCWUS, id = 0\n",
      "[I 180131 01:57:39 <ipython-input-49-8e97e527c99b>:8] addr = NCGLWE, id = 0\n",
      "[I 180131 01:57:40 <ipython-input-49-8e97e527c99b>:8] addr = NBY32I, id = 0\n",
      "[I 180131 01:57:40 <ipython-input-49-8e97e527c99b>:8] addr = NBKCVZ, id = 0\n",
      "[I 180131 01:57:42 <ipython-input-49-8e97e527c99b>:8] addr = NAUFIP, id = 0\n",
      "[I 180131 01:57:43 <ipython-input-49-8e97e527c99b>:8] addr = NCJQZI, id = 0\n",
      "[I 180131 01:57:43 <ipython-input-49-8e97e527c99b>:8] addr = NAZASO, id = 0\n",
      "[I 180131 01:57:44 <ipython-input-49-8e97e527c99b>:8] addr = NBXA6F, id = 0\n",
      "[I 180131 01:57:44 <ipython-input-49-8e97e527c99b>:8] addr = NCMKWN, id = 0\n",
      "[I 180131 01:57:45 <ipython-input-49-8e97e527c99b>:8] addr = NCM6WE, id = 0\n",
      "[I 180131 01:57:46 <ipython-input-49-8e97e527c99b>:8] addr = NA6JSW, id = 0\n",
      "[I 180131 01:57:46 <ipython-input-49-8e97e527c99b>:8] addr = NDDZVF, id = 0\n",
      "[I 180131 01:57:47 <ipython-input-49-8e97e527c99b>:8] addr = NB4QJJ, id = 0\n",
      "[I 180131 01:57:48 <ipython-input-49-8e97e527c99b>:8] addr = NDZZJB, id = 0\n",
      "[I 180131 01:57:48 <ipython-input-49-8e97e527c99b>:8] addr = NBKLQY, id = 0\n",
      "[I 180131 01:57:49 <ipython-input-49-8e97e527c99b>:8] addr = NDODXO, id = 0\n",
      "[I 180131 01:57:49 <ipython-input-49-8e97e527c99b>:8] addr = NA7SZ7, id = 0\n",
      "[I 180131 01:57:50 <ipython-input-49-8e97e527c99b>:8] addr = NCTWFI, id = 0\n",
      "[I 180131 01:57:51 <ipython-input-49-8e97e527c99b>:8] addr = NDSET7, id = 0\n",
      "[I 180131 01:57:51 <ipython-input-49-8e97e527c99b>:8] addr = NBO6TZ, id = 0\n",
      "[I 180131 01:57:57 <ipython-input-49-8e97e527c99b>:8] addr = NC5MG5, id = 0\n",
      "[I 180131 01:57:57 <ipython-input-49-8e97e527c99b>:8] addr = NC5MG5, id = 1566758\n",
      "[I 180131 01:57:58 <ipython-input-49-8e97e527c99b>:8] addr = NCF6IA, id = 0\n",
      "[I 180131 01:57:58 <ipython-input-49-8e97e527c99b>:8] addr = NCPY2M, id = 0\n",
      "[I 180131 01:57:59 <ipython-input-49-8e97e527c99b>:8] addr = NDUZXB, id = 0\n",
      "[I 180131 01:57:59 <ipython-input-49-8e97e527c99b>:8] addr = NC6M2H, id = 0\n",
      "[I 180131 01:58:01 <ipython-input-49-8e97e527c99b>:8] addr = NCZ3ZK, id = 0\n",
      "[I 180131 01:58:02 <ipython-input-49-8e97e527c99b>:8] addr = ND7MDX, id = 0\n",
      "[I 180131 01:58:08 <ipython-input-49-8e97e527c99b>:8] addr = NDH2YI, id = 0\n",
      "[I 180131 01:58:09 <ipython-input-49-8e97e527c99b>:8] addr = NC4JYA, id = 0\n",
      "[I 180131 01:58:10 <ipython-input-49-8e97e527c99b>:8] addr = NCP5OR, id = 0\n",
      "[I 180131 01:58:11 <ipython-input-49-8e97e527c99b>:8] addr = NADETR, id = 0\n",
      "[I 180131 01:58:11 <ipython-input-49-8e97e527c99b>:8] addr = NCCFO5, id = 0\n",
      "[I 180131 01:58:12 <ipython-input-49-8e97e527c99b>:8] addr = NCCFO5, id = 1579936\n",
      "[I 180131 01:58:12 <ipython-input-49-8e97e527c99b>:8] addr = NCCFO5, id = 1568382\n",
      "[I 180131 01:58:13 <ipython-input-49-8e97e527c99b>:8] addr = NDM54N, id = 0\n",
      "[I 180131 01:58:14 <ipython-input-49-8e97e527c99b>:8] addr = NALMXS, id = 0\n",
      "[I 180131 01:58:14 <ipython-input-49-8e97e527c99b>:8] addr = NAJOTL, id = 0\n",
      "[I 180131 01:58:15 <ipython-input-49-8e97e527c99b>:8] addr = NDHDUK, id = 0\n",
      "[I 180131 01:58:15 <ipython-input-49-8e97e527c99b>:8] addr = NBURNV, id = 0\n",
      "[I 180131 01:58:16 <ipython-input-49-8e97e527c99b>:8] addr = NBGO3C, id = 0\n",
      "[I 180131 01:58:16 <ipython-input-49-8e97e527c99b>:8] addr = NBUWC2, id = 0\n",
      "[I 180131 01:58:17 <ipython-input-49-8e97e527c99b>:8] addr = NDHF6O, id = 0\n"
     ]
    }
   ],
   "source": [
    "tx = []\n",
    "memo = []\n",
    "queue = [ROOT_ADDR]\n",
    "black_hole = [\n",
    "    'ND2JRPQIWXHKAA26INVGA7SREEUMX5QAI6VU7HNR', # Bittrex\n",
    "    'NAGJG3QFWYZ37LMI7IQPSGQNYADGSJZGJRD2DIYA', # Zaif Exchange\n",
    "    'NBQ73BYLVGMO7L2WFG2VVOJHOBWWJKW7D3V7UE4E', # Cryptopia?\n",
    "    'NBRT3YQTVHLTYBDUXH2HHURI5KCYDWRWJ63YWIGG', # Yobit?\n",
    "    'NBZMQO7ZPBYNBDUR7F75MAKA2S3DHDCIFG775N3D', # Poloniex\n",
    "    'NDKIDQOVCGN463JUSAUJ3YKGLVVLSZV3ZKA46JQC', # ???\n",
    "    'NCYAVMNQOZ3MZETEBD34ACMAX3S57WUSWAZWY3DW', # HitBTC\n",
    "    'NBFRCTQAEC6ITWADQ753QZVKBQ76BXDKVMG7JMO3', # ???\n",
    "    'NCPWSOGDWN7E7FHVWRDVQNIEHW5PAZTGIHO423LL', # ???\n",
    "]\n",
    "while len(queue) > 0:\n",
    "    addr = queue[0]\n",
    "    queue = queue[1:]\n",
    "    new_tx = fetchTx(addr)\n",
    "    tx.extend(new_tx)\n",
    "    for t in new_tx:\n",
    "        if t['height'] < HEIGHT:\n",
    "            continue\n",
    "        if 'recipient' not in t:\n",
    "            continue\n",
    "        new_addr = t['recipient']\n",
    "        if new_addr not in memo and new_addr not in black_hole:\n",
    "            memo.append(new_addr)\n",
    "            queue.append(new_addr)"
   ]
  },
  {
   "cell_type": "code",
   "execution_count": null,
   "metadata": {},
   "outputs": [],
   "source": []
  }
 ],
 "metadata": {
  "kernelspec": {
   "display_name": "Python 3",
   "language": "python",
   "name": "python3"
  },
  "language_info": {
   "codemirror_mode": {
    "name": "ipython",
    "version": 3
   },
   "file_extension": ".py",
   "mimetype": "text/x-python",
   "name": "python",
   "nbconvert_exporter": "python",
   "pygments_lexer": "ipython3",
   "version": "3.6.4"
  }
 },
 "nbformat": 4,
 "nbformat_minor": 2
}
